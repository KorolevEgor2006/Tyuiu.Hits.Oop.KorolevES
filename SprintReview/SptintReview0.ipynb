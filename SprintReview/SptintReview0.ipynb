{
 "cells": [
  {
   "cell_type": "code",
   "execution_count": 2,
   "id": "edb2cfea",
   "metadata": {
    "language_info": {
     "name": "polyglot-notebook"
    },
    "polyglot_notebook": {
     "kernelName": "csharp"
    }
   },
   "outputs": [
    {
     "name": "stdout",
     "output_type": "stream",
     "text": [
      "Цветок Белая Ромашка распускает 8 лепестков и радует глаз!\n",
      "Высота растение Ромашка: 23.8 см\n",
      "Цветок Белая Ромашка увядает\n",
      "Дерево Дуб покрывается новыми Лиственные листьями!\n",
      "Высота растение Дуб: 194.57 см\n",
      "Возраст Дерево Дуб: 28\n"
     ]
    }
   ],
   "source": [
    "public class Plant\n",
    "{\n",
    "    protected string Name{get;set;}\n",
    "    protected string Type{get;set;}\n",
    "    protected float Hieght{get;set;}\n",
    "    public Plant(string name,string type,float hieght)\n",
    "    {\n",
    "        Name=name;\n",
    "        Type=type;\n",
    "        Hieght=hieght;\n",
    "    }\n",
    "    public virtual void Flowing()\n",
    "    {\n",
    "        Console.WriteLine($\"Растение {Name }цветет!\");\n",
    "    }\n",
    "    public void Growing(float grow)\n",
    "    {\n",
    "        Hieght+=grow;\n",
    "        Console.WriteLine($\"Высота растение {Name}: {Hieght} см\");\n",
    "    }\n",
    "}\n",
    "\n",
    "public class Flower:Plant\n",
    "{\n",
    "    private string Color{get;set;}\n",
    "    private int CountLepestock{get;set;}\n",
    "    public Flower(string name,string type,float hieght,string color,int count):base(name,type,hieght)\n",
    "    {\n",
    "        Color=color;\n",
    "        CountLepestock=count;\n",
    "    }\n",
    "    public override void Flowing()\n",
    "    {\n",
    "        Console.WriteLine($\"{Type} {Color} {Name} распускает {CountLepestock} лепестков и радует глаз!\");\n",
    "    }\n",
    "    public void  UnFlowing()\n",
    "    {\n",
    "        Console.WriteLine($\"{Type} {Color} {Name} увядает\");\n",
    "    }\n",
    "}\n",
    "\n",
    "public class Tree:Plant\n",
    "{\n",
    "    private int Age{get;set;}\n",
    "    private string TypeTreeList{get;set;}\n",
    "    public Tree(string name, string type, float hieght,int age,string typeList):base(name,type,hieght)\n",
    "    {\n",
    "        Age=age;\n",
    "        TypeTreeList=typeList;\n",
    "    }\n",
    "    public override void Flowing()\n",
    "    {\n",
    "        Console.WriteLine($\"{Type} {Name} покрывается новыми {TypeTreeList} листьями!\");\n",
    "    }\n",
    "    public void ChangeAge(int years)\n",
    "    {\n",
    "        Age+=years;\n",
    "        Console.WriteLine($\"Возраст {Type} {Name}: {Age}\");\n",
    "    }\n",
    "}\n",
    "\n",
    "Flower flower = new Flower(\"Ромашка\",\"Цветок\",20.5f,\"Белая\",8);\n",
    "Tree tree = new Tree(\"Дуб\",\"Дерево\",174.57f,26,\"Лиственные\");\n",
    "flower.Flowing();\n",
    "flower.Growing(3.3f);\n",
    "flower.UnFlowing();\n",
    "tree.Flowing();\n",
    "tree.Growing(20);\n",
    "tree.ChangeAge(2);"
   ]
  }
 ],
 "metadata": {
  "kernelspec": {
   "display_name": ".NET (C#)",
   "language": "C#",
   "name": ".net-csharp"
  },
  "language_info": {
   "name": "polyglot-notebook"
  },
  "polyglot_notebook": {
   "kernelInfo": {
    "defaultKernelName": "csharp",
    "items": [
     {
      "aliases": [],
      "name": "csharp"
     }
    ]
   }
  }
 },
 "nbformat": 4,
 "nbformat_minor": 5
}
